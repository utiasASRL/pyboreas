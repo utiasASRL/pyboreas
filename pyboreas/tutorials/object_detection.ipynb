{
 "cells": [
  {
   "cell_type": "markdown",
   "id": "2bd644d5",
   "metadata": {},
   "source": [
    "# Visualizing 3D Object Labels\n",
    "\n",
    "Before starting this tutorial, you will need to have downloaded the `boreas-objects-v1` folder:\n",
    "\n",
    "Follow these steps to download a sequence:\n",
    "1. [Create an AWS account](https://aws.amazon.com/premiumsupport/knowledge-center/create-and-activate-aws-account/)\n",
    "2. [Install the AWS CLI](https://docs.aws.amazon.com/cli/latest/userguide/install-cliv2.html)\n",
    "4. Use the AWS CLI to download the `boreas-objects-v1` bucket:\n",
    "```\n",
    "root=/path/to/data/boreas/\n",
    "folder=boreas-objects-v1\n",
    "aws s3 sync s3://boreas/$folder $root$folder\n",
    "```"
   ]
  },
  {
   "cell_type": "code",
   "execution_count": null,
   "id": "5ef735a6",
   "metadata": {},
   "outputs": [],
   "source": [
    "import matplotlib.pyplot as plt\n",
    "import matplotlib.transforms as mtf\n",
    "import numpy as np\n",
    "\n",
    "from pyboreas import BoreasDataset\n",
    "from pyboreas.data.splits import obj_train\n",
    "from pyboreas.utils.utils import get_inverse_tf"
   ]
  },
  {
   "cell_type": "code",
   "execution_count": null,
   "id": "a5eb7cb9",
   "metadata": {},
   "outputs": [],
   "source": [
    "%matplotlib inline\n",
    "bd = BoreasDataset('/path/to/data/boreas/', split=obj_train)\n",
    "seq = bd.sequences[36]  ## ** Try different sequences!\n",
    "seq.filter_frames_gt()\n",
    "seq.synchronize_frames('lidar')\n",
    "index = 0  ## ** Try different indices in the sequence!\n",
    "cam = seq.get_camera(index)\n",
    "lid = seq.get_lidar(index)\n",
    "rad = seq.get_radar(index)\n",
    "\n",
    "bounds = [-75, 75, -75, 75, -5, 10] # xmin, xmax, ymin, ymax, zmin, zmax\n",
    "bbs = lid.get_bounding_boxes()\n",
    "bbs.filter_empty()\n",
    "bbs.passthrough(bounds)\n",
    "\n",
    "T_enu_camera = cam.pose\n",
    "T_enu_lidar = lid.pose\n",
    "T_camera_lidar = np.matmul(get_inverse_tf(T_enu_camera), T_enu_lidar)\n",
    "\n",
    "lid.passthrough(bounds)\n",
    "fig = plt.figure(figsize=(10, 10))\n",
    "ax = fig.add_subplot()\n",
    "rot = 90\n",
    "M = mtf.Affine2D().rotate_deg(rot)+plt.gca().transData\n",
    "ax.scatter(lid.points[:, 0], lid.points[:, 1], s=1, c=lid.points[:, 2], vmin=-5, vmax=10, transform=M)\n",
    "ax.axis('equal')\n",
    "bbs.render_2d(ax, transform=M)\n",
    "plt.show()"
   ]
  },
  {
   "cell_type": "code",
   "execution_count": null,
   "id": "9bfa714b",
   "metadata": {},
   "outputs": [],
   "source": [
    "%matplotlib inline\n",
    "lid.remove_motion(lid.body_rate, tref=lid.points[-1, 5])\n",
    "lid.transform(T_camera_lidar)\n",
    "lid.passthrough([-75, 75, -20, 20, 2, 40])\n",
    "uv, colors, mask = lid.project_onto_image(seq.calib.P0)\n",
    "fig = plt.figure(figsize=(24.48, 20.48), dpi=100)\n",
    "ax = fig.add_subplot()\n",
    "ax.imshow(cam.img)\n",
    "ax.set_xlim(0, 2448)\n",
    "ax.set_ylim(2048, 0)\n",
    "ax.scatter(uv[:, 0], uv[:, 1], c=colors, marker=',', s=3, edgecolors='none', alpha=0.7, cmap='jet')\n",
    "ax.set_axis_off()\n",
    "plt.show()"
   ]
  },
  {
   "cell_type": "code",
   "execution_count": null,
   "id": "bca7b54b",
   "metadata": {},
   "outputs": [],
   "source": [
    "%matplotlib inline\n",
    "# bbs.transform(T_camera_lidar)\n",
    "bbs = cam.get_bounding_boxes(seq.labelFiles, seq.labelTimes, seq.labelPoses)\n",
    "UV = bbs.project(seq.calib.P0)\n",
    "bbs.visualize(cam.img, seq.calib.P0, checkdims=True)\n",
    "cam.visualize()"
   ]
  },
  {
   "cell_type": "code",
   "execution_count": null,
   "id": "fbd68351",
   "metadata": {},
   "outputs": [],
   "source": [
    "from pyboreas.utils.utils import get_T_bev_metric\n",
    "resolution = 0.25\n",
    "width = int(150 / resolution)\n",
    "bbs = rad.get_bounding_boxes(seq.labelFiles, seq.labelTimes, seq.labelPoses)\n",
    "bbs.passthrough(bounds)\n",
    "T_bev_metric = get_T_bev_metric(resolution, width)\n",
    "bbs.transform(T_bev_metric)\n",
    "ax = rad.visualize(show=False, cart_resolution=resolution, cart_pixel_width=width)\n",
    "bbs.render_2d(ax)\n",
    "plt.show()"
   ]
  },
  {
   "cell_type": "code",
   "execution_count": null,
   "id": "6970dda0",
   "metadata": {},
   "outputs": [],
   "source": []
  }
 ],
 "metadata": {
  "kernelspec": {
   "display_name": "Python 3 (ipykernel)",
   "language": "python",
   "name": "python3"
  },
  "language_info": {
   "codemirror_mode": {
    "name": "ipython",
    "version": 3
   },
   "file_extension": ".py",
   "mimetype": "text/x-python",
   "name": "python",
   "nbconvert_exporter": "python",
   "pygments_lexer": "ipython3",
   "version": "3.8.10"
  }
 },
 "nbformat": 4,
 "nbformat_minor": 5
}
